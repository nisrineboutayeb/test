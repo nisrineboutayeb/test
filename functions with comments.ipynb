{
 "cells": [
  {
   "cell_type": "code",
   "execution_count": 12,
   "id": "2c8c8a1f",
   "metadata": {},
   "outputs": [
    {
     "data": {
      "text/plain": [
       "35"
      ]
     },
     "execution_count": 12,
     "metadata": {},
     "output_type": "execute_result"
    }
   ],
   "source": [
    "def maximum(x,y,z):\n",
    "\n",
    "    if  (x >= y) and (x >= z):\n",
    "        return x\n",
    "        \n",
    "    elif (y >= x) and (y >= z):\n",
    "        return y\n",
    "        \n",
    "    else :\n",
    "        return z\n",
    "maximum(35,35,19)\n",
    "        "
   ]
  },
  {
   "cell_type": "code",
   "execution_count": 2,
   "id": "32473987",
   "metadata": {},
   "outputs": [
    {
     "name": "stdout",
     "output_type": "stream",
     "text": [
      "hello world ! Join us to learn python\n"
     ]
    }
   ],
   "source": [
    "def say_hi():  # to make a function we always use  def \n",
    "    print('hello world ! Join us to learn python') \n",
    "    \n",
    "say_hi()  # I must recall the function before running the code"
   ]
  },
  {
   "cell_type": "code",
   "execution_count": 5,
   "id": "f11d5ed5",
   "metadata": {},
   "outputs": [
    {
     "name": "stdout",
     "output_type": "stream",
     "text": [
      "hello nisrine\n"
     ]
    }
   ],
   "source": [
    "def say_hi(name):  \n",
    "    print('hello ' + name)\n",
    "    \n",
    "say_hi(\"nisrine\")"
   ]
  },
  {
   "cell_type": "code",
   "execution_count": null,
   "id": "452db7a4",
   "metadata": {},
   "outputs": [],
   "source": []
  }
 ],
 "metadata": {
  "kernelspec": {
   "display_name": "Python 3 (ipykernel)",
   "language": "python",
   "name": "python3"
  },
  "language_info": {
   "codemirror_mode": {
    "name": "ipython",
    "version": 3
   },
   "file_extension": ".py",
   "mimetype": "text/x-python",
   "name": "python",
   "nbconvert_exporter": "python",
   "pygments_lexer": "ipython3",
   "version": "3.9.12"
  }
 },
 "nbformat": 4,
 "nbformat_minor": 5
}
